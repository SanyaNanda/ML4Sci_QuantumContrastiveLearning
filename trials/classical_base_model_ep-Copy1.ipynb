{
 "cells": [
  {
   "cell_type": "code",
   "execution_count": 1,
   "id": "3d999eaa-178f-4a93-b7cd-23187d13baad",
   "metadata": {},
   "outputs": [
    {
     "name": "stdout",
     "output_type": "stream",
     "text": [
      "WARNING:tensorflow:From C:\\Users\\Sanya Nanda\\AppData\\Local\\Programs\\Python\\Python310\\lib\\site-packages\\keras\\src\\losses.py:2976: The name tf.losses.sparse_softmax_cross_entropy is deprecated. Please use tf.compat.v1.losses.sparse_softmax_cross_entropy instead.\n",
      "\n"
     ]
    }
   ],
   "source": [
    "import tensorflow as tf\n",
    "from tensorflow.keras import layers, models, losses, optimizers, initializers\n",
    "import numpy as np"
   ]
  },
  {
   "cell_type": "code",
   "execution_count": 2,
   "id": "bf7cea8b-577c-4d2f-a50e-ea3662331770",
   "metadata": {},
   "outputs": [],
   "source": [
    "def load_and_preprocess_data():\n",
    "    # loading the data as train and test\n",
    "    data = np.load('../../data/electron-photon-pairs.npz', allow_pickle=True)\n",
    "    pairs_train = data[\"pairs_train\"]\n",
    "    labels_train = data[\"labels_train\"]\n",
    "    pairs_test = data[\"pairs_test\"]\n",
    "    labels_test = data[\"labels_test\"]\n",
    "    return pairs_train, labels_train, pairs_test, labels_test\n",
    "\n",
    "# def create_data_augmentation_layer(input_shape):\n",
    "#     return tf.keras.Sequential([\n",
    "#         tf.keras.layers.Input(shape=input_shape),\n",
    "#         tf.keras.layers.RandomFlip(\"horizontal\"),\n",
    "#         tf.keras.layers.RandomRotation(0.2),\n",
    "#         tf.keras.layers.RandomZoom(0.2),\n",
    "#         tf.keras.layers.RandomContrast(0.2),\n",
    "#     ])\n",
    "\n",
    " \n",
    "\n",
    "# class SiameseModel(tf.keras.Model):\n",
    "#     def __init__(self, input_shape):\n",
    "#         super(SiameseModel, self).__init__()\n",
    "#         self.base_model = create_base_model(input_shape)\n",
    "#         self.data_augmentation = create_data_augmentation_layer()\n",
    "\n",
    "#     def call(self, inputs):\n",
    "#         img1, img2 = inputs\n",
    "#         img1 = self.data_augmentation(img1)\n",
    "#         img2 = self.data_augmentation(img2)\n",
    "#         feat1 = self.base_model(img1)\n",
    "#         feat2 = self.base_model(img2)\n",
    "#         distance = layers.Lambda(lambda embeddings: tf.sqrt(tf.reduce_sum(tf.square(embeddings[0] - embeddings[1]), axis=-1)), output_shape=(1,)\n",
    "#                             )([feat1, feat2])\n",
    "    \n",
    "#         model = models.Model([img1, img2], distance)\n",
    "#         return model\n",
    "\n",
    "# def info_nce_loss(temperature=0.1):\n",
    "#     def loss(features1,features2):\n",
    "#         batch_size = tf.shape(features1)[0]\n",
    "#         labels = tf.range(batch_size)\n",
    "            \n",
    "#         features1_norm = tf.math.l2_normalize(features1, axis=1, epsilon=tf.cast(1e-12, tf.float32))\n",
    "#         features2_norm = tf.math.l2_normalize(features2, axis=1, epsilon=tf.cast(1e-12, tf.float32))\n",
    "    \n",
    "            \n",
    "#         logits = tf.matmul(features1_norm, features2_norm, transpose_b=True) / temperature\n",
    "         \n",
    "#         loss = tf.keras.losses.sparse_categorical_crossentropy(labels, logits, from_logits=True)\n",
    "#         return tf.reduce_mean(loss)\n",
    "#     return loss"
   ]
  },
  {
   "cell_type": "code",
   "execution_count": 3,
   "id": "ce739b5c-0eb4-4895-a65e-024f0eaf226b",
   "metadata": {},
   "outputs": [],
   "source": [
    "train_images, train_labels, test_images, test_labels = load_and_preprocess_data()"
   ]
  },
  {
   "cell_type": "markdown",
   "id": "b0eced90-90b9-480b-b08d-2f17738d9086",
   "metadata": {},
   "source": [
    "### Defining the Model"
   ]
  },
  {
   "cell_type": "code",
   "execution_count": 4,
   "id": "ac2ee988-b0ee-4e05-85bb-ac412a17b5bd",
   "metadata": {},
   "outputs": [],
   "source": [
    "def info_nce_loss(temperature=0.1):\n",
    "    def loss(y_true, embeddings):\n",
    "        # Unpack the embeddings\n",
    "        embeddings1, embeddings2 = tf.split(embeddings, 2, axis=1)\n",
    "        \n",
    "        # Normalize embeddings\n",
    "        embeddings1 = tf.math.l2_normalize(embeddings1, axis=1)\n",
    "        embeddings2 = tf.math.l2_normalize(embeddings2, axis=1)\n",
    "        \n",
    "        # Compute similarity matrix\n",
    "        similarity_matrix = tf.matmul(embeddings1, embeddings2, transpose_b=True) / temperature\n",
    "        \n",
    "        # Compute InfoNCE loss\n",
    "        batch_size = tf.shape(embeddings1)[0]\n",
    "        labels = tf.range(batch_size)\n",
    "        loss = tf.keras.losses.sparse_categorical_crossentropy(\n",
    "            labels, similarity_matrix, from_logits=True\n",
    "        )\n",
    "        return tf.reduce_mean(loss)\n",
    "    return loss"
   ]
  },
  {
   "cell_type": "code",
   "execution_count": 5,
   "id": "ce6ed510-2ed0-49c9-8e60-1519ec96bcdf",
   "metadata": {},
   "outputs": [],
   "source": [
    "# # Contrastive loss function based on margin\n",
    "# def contrastive_loss(margin=1.0):\n",
    "#     def loss(y_true, dist):\n",
    "#         y_true = tf.cast(y_true, tf.float32)\n",
    "#         square_dist = tf.square(dist)\n",
    "#         margin_square = tf.square(tf.maximum(margin - dist, 0))\n",
    "#         return tf.reduce_mean(y_true * square_dist + (1 - y_true) * margin_square)\n",
    "#     return loss"
   ]
  },
  {
   "cell_type": "code",
   "execution_count": 6,
   "id": "0a2beaa6-a4c7-48d4-b7c6-801d917f5d35",
   "metadata": {},
   "outputs": [],
   "source": [
    "def create_base_model(input_shape):\n",
    "    model = models.Sequential()\n",
    "    model.add(layers.Input(shape=input_shape))\n",
    "    model.add(layers.Conv2D(32, (3, 3), activation='relu', kernel_initializer=initializers.HeNormal())) # Conv layer 1\n",
    "    model.add(layers.MaxPooling2D((2, 2)))\n",
    "    model.add(layers.Conv2D(64, (3, 3), activation='relu',kernel_regularizer=tf.keras.regularizers.l2(0.01))) # Conv layer 2\n",
    "    model.add(layers.Dropout((0.5)))\n",
    "    model.add(layers.Flatten())\n",
    "    model.add(layers.Dense(64, activation='leaky_relu',kernel_regularizer=tf.keras.regularizers.l2(0.01)))\n",
    "    return model"
   ]
  },
  {
   "cell_type": "code",
   "execution_count": 7,
   "id": "b483ed54-cfae-445d-8992-115ca0f61019",
   "metadata": {},
   "outputs": [],
   "source": [
    "# Siamese Network model\n",
    "def create_siamese_network(input_shape):\n",
    "    base_model = create_base_model(input_shape)\n",
    "\n",
    "    input_0 = layers.Input(shape=input_shape)\n",
    "    input_1 = layers.Input(shape=input_shape)\n",
    "\n",
    "    # input_0 = create_data_augmentation_layer(input_shape)\n",
    "    # input_1 = create_data_augmentation_layer(input_shape)\n",
    "\n",
    "    processed_0 = base_model(input_0)\n",
    "    processed_1 = base_model(input_1)\n",
    "\n",
    "    embeddings = tf.concat([processed_0, processed_1], axis=1)\n",
    "\n",
    "    # distance = layers.Lambda(lambda embeddings: tf.sqrt(tf.reduce_sum(tf.square(embeddings[0] - embeddings[1]), axis=-1)), output_shape=(1,)\n",
    "    #                         )([processed_0, processed_1])\n",
    "    \n",
    "    model = models.Model([input_0, input_1], embeddings)\n",
    "    \n",
    "    return model"
   ]
  },
  {
   "cell_type": "code",
   "execution_count": null,
   "id": "a574a2bf-3b0e-4733-ba8e-6e01545a23e3",
   "metadata": {},
   "outputs": [
    {
     "name": "stdout",
     "output_type": "stream",
     "text": [
      "WARNING:tensorflow:From C:\\Users\\Sanya Nanda\\AppData\\Local\\Programs\\Python\\Python310\\lib\\site-packages\\keras\\src\\backend.py:873: The name tf.get_default_graph is deprecated. Please use tf.compat.v1.get_default_graph instead.\n",
      "\n",
      "WARNING:tensorflow:From C:\\Users\\Sanya Nanda\\AppData\\Local\\Programs\\Python\\Python310\\lib\\site-packages\\keras\\src\\layers\\pooling\\max_pooling2d.py:161: The name tf.nn.max_pool is deprecated. Please use tf.nn.max_pool2d instead.\n",
      "\n",
      "Epoch 1/10\n",
      "WARNING:tensorflow:From C:\\Users\\Sanya Nanda\\AppData\\Local\\Programs\\Python\\Python310\\lib\\site-packages\\keras\\src\\utils\\tf_utils.py:492: The name tf.ragged.RaggedTensorValue is deprecated. Please use tf.compat.v1.ragged.RaggedTensorValue instead.\n",
      "\n"
     ]
    }
   ],
   "source": [
    "# Define the model\n",
    "# import os\n",
    "# checkpoint_path = \"../../saved_models/exp1_cnn_base_1_ep/cp.ckpt\"\n",
    "# checkpoint_dir = os.path.dirname(checkpoint_path)\n",
    "# cp_callback = tf.keras.callbacks.ModelCheckpoint(filepath=checkpoint_path,save_weights_only=True,verbose=1)\n",
    "\n",
    "input_shape = train_images.shape[2:]\n",
    "siamese_network = create_siamese_network(input_shape)\n",
    "\n",
    "siamese_network.compile(loss=info_nce_loss(), optimizer=optimizers.RMSprop(learning_rate=1e-3))\n",
    "\n",
    "history = siamese_network.fit([train_images[:, 0], train_images[:, 1]], train_labels,\n",
    "    validation_data=([test_images[:, 0], test_images[:, 1]], test_labels),\n",
    "    epochs=10,\n",
    "    batch_size=50000,\n",
    "    # callbacks=[cp_callback]\n",
    ")"
   ]
  },
  {
   "cell_type": "code",
   "execution_count": 51,
   "id": "54ccd9c9-e2e3-4eab-889a-f10d2d2e9c80",
   "metadata": {},
   "outputs": [
    {
     "name": "stdout",
     "output_type": "stream",
     "text": [
      "Model: \"model_2\"\n",
      "__________________________________________________________________________________________________\n",
      " Layer (type)                Output Shape                 Param #   Connected to                  \n",
      "==================================================================================================\n",
      " input_8 (InputLayer)        [(None, 8, 8, 1)]            0         []                            \n",
      "                                                                                                  \n",
      " input_9 (InputLayer)        [(None, 8, 8, 1)]            0         []                            \n",
      "                                                                                                  \n",
      " sequential_2 (Sequential)   (None, 64)                   22976     ['input_8[0][0]',             \n",
      "                                                                     'input_9[0][0]']             \n",
      "                                                                                                  \n",
      " lambda_2 (Lambda)           (None,)                      0         ['sequential_2[0][0]',        \n",
      "                                                                     'sequential_2[1][0]']        \n",
      "                                                                                                  \n",
      "==================================================================================================\n",
      "Total params: 22976 (89.75 KB)\n",
      "Trainable params: 22976 (89.75 KB)\n",
      "Non-trainable params: 0 (0.00 Byte)\n",
      "__________________________________________________________________________________________________\n"
     ]
    }
   ],
   "source": [
    "siamese_network.summary()"
   ]
  },
  {
   "cell_type": "code",
   "execution_count": 52,
   "id": "9ab14d22-f0d4-4e22-9b48-e766f477022d",
   "metadata": {},
   "outputs": [
    {
     "data": {
      "text/plain": [
       "<Axes: title={'center': 'Learning History'}>"
      ]
     },
     "execution_count": 52,
     "metadata": {},
     "output_type": "execute_result"
    },
    {
     "data": {
      "image/png": "[encoded data removed]",
      "text/plain": [
       "<Figure size 640x480 with 1 Axes>"
      ]
     },
     "metadata": {},
     "output_type": "display_data"
    }
   ],
   "source": [
    "pd.DataFrame(history.history).plot(title=\"Learning History\")"
   ]
  },
  {
   "cell_type": "markdown",
   "id": "34791236-8366-457b-a71c-aaaafeb9e9ab",
   "metadata": {},
   "source": [
    "### Evaluation of the model"
   ]
  },
  {
   "cell_type": "code",
   "execution_count": 53,
   "id": "348c668e-4026-4d2a-9a54-0497d1f8069a",
   "metadata": {},
   "outputs": [
    {
     "name": "stdout",
     "output_type": "stream",
     "text": [
      "6225/6225 [==============================] - 28s 4ms/step\n"
     ]
    }
   ],
   "source": [
    "# Predictions from the model\n",
    "distance = siamese_network.predict([pairs_test[:, 0], pairs_test[:, 1]])"
   ]
  },
  {
   "cell_type": "code",
   "execution_count": 54,
   "id": "1dacd489-ffee-49f0-a073-d11ca67f3da4",
   "metadata": {},
   "outputs": [
    {
     "data": {
      "text/plain": [
       "array([8.8643283e-04, 5.1073229e-04, 3.6187175e-05, ..., 2.3375833e-06,\n",
       "       8.0455131e-05, 3.9003426e-05], dtype=float32)"
      ]
     },
     "execution_count": 54,
     "metadata": {},
     "output_type": "execute_result"
    }
   ],
   "source": [
    "distance"
   ]
  },
  {
   "cell_type": "code",
   "execution_count": 55,
   "id": "a0c76deb-cf40-46b1-a1f0-9579af8e9e34",
   "metadata": {},
   "outputs": [],
   "source": [
    "def distances_to_labels(distances, threshold=0.5):\n",
    "    return (distances <= threshold).astype(int)"
   ]
  },
  {
   "cell_type": "code",
   "execution_count": 56,
   "id": "fc35717e-1079-400a-bb48-ff72686ee038",
   "metadata": {},
   "outputs": [],
   "source": [
    "y_pred = distances_to_labels(distance)"
   ]
  },
  {
   "cell_type": "code",
   "execution_count": 57,
   "id": "82bf4c1b-4d71-4e35-8570-5d20f9ed0c0e",
   "metadata": {},
   "outputs": [],
   "source": [
    "def plot_samples_with_predictions(test_pairs, test_labels, predictions, distances, size,num_samples=5):\n",
    "    plt.figure(figsize=(15, num_samples * 2))\n",
    "    for i in range(num_samples):\n",
    "        ax = plt.subplot(num_samples, 2, 2 * i + 1)\n",
    "        plt.imshow(test_pairs[i, 0].reshape(size, size), cmap='gray')\n",
    "        ax.axis('off')\n",
    "\n",
    "        ax = plt.subplot(num_samples, 2, 2 * i + 2)\n",
    "        plt.imshow(test_pairs[i, 1].reshape(size, size), cmap='gray')\n",
    "        ax.axis('off')\n",
    "\n",
    "        label = test_labels[i]\n",
    "        pred = predictions[i]\n",
    "        dist = distances[i]\n",
    "        plt.title(f'True: {label}, Pred: {pred}, Dist: {dist:0.15f}')\n",
    "\n",
    "    plt.tight_layout()\n",
    "    plt.show()"
   ]
  },
  {
   "cell_type": "code",
   "execution_count": 58,
   "id": "16be0034-c2cc-42b1-9b23-7d90addad512",
   "metadata": {},
   "outputs": [
    {
     "data": {
      "image/png": "[encoded data removed]",
      "text/plain": [
       "<Figure size 1500x1000 with 10 Axes>"
      ]
     },
     "metadata": {},
     "output_type": "display_data"
    }
   ],
   "source": [
    "# Plot sample pairs with predictions\n",
    "plot_samples_with_predictions(pairs_test, labels_test, y_pred, distance, size=8, num_samples=5)"
   ]
  },
  {
   "cell_type": "code",
   "execution_count": 64,
   "id": "daa88ddf-3eae-450c-93da-f42de3af8c5d",
   "metadata": {},
   "outputs": [
    {
     "data": {
      "application/vnd.jupyter.widget-view+json": {
       "model_id": "",
       "version_major": 2,
       "version_minor": 0
      },
      "text/plain": [
       "VBox(children=(Label(value='0.001 MB of 0.030 MB uploaded\\r'), FloatProgress(value=0.041421647819063004, max=1…"
      ]
     },
     "metadata": {},
     "output_type": "display_data"
    },
    {
     "data": {
      "text/html": [
       " View run <strong style=\"color:#cdcd00\">comic-aardvark-8</strong> at: <a href='https://wandb.ai/team-sanya/ML4Sci-QuantumContrastiveLearning/runs/znvqzx66' target=\"_blank\">https://wandb.ai/team-sanya/ML4Sci-QuantumContrastiveLearning/runs/znvqzx66</a><br/> View project at: <a href='https://wandb.ai/team-sanya/ML4Sci-QuantumContrastiveLearning' target=\"_blank\">https://wandb.ai/team-sanya/ML4Sci-QuantumContrastiveLearning</a><br/>Synced 5 W&B file(s), 0 media file(s), 0 artifact file(s) and 0 other file(s)"
      ],
      "text/plain": [
       "<IPython.core.display.HTML object>"
      ]
     },
     "metadata": {},
     "output_type": "display_data"
    },
    {
     "data": {
      "text/html": [
       "Find logs at: <code>.\\wandb\\run-20240612_001941-znvqzx66\\logs</code>"
      ],
      "text/plain": [
       "<IPython.core.display.HTML object>"
      ]
     },
     "metadata": {},
     "output_type": "display_data"
    }
   ],
   "source": [
    "wandb.finish()"
   ]
  },
  {
   "cell_type": "code",
   "execution_count": null,
   "id": "82a2c8c9-7056-4d45-8411-07dfe28e4588",
   "metadata": {},
   "outputs": [],
   "source": []
  }
 ],
 "metadata": {
  "kernelspec": {
   "display_name": "env",
   "language": "python",
   "name": "env"
  },
  "language_info": {
   "codemirror_mode": {
    "name": "ipython",
    "version": 3
   },
   "file_extension": ".py",
   "mimetype": "text/x-python",
   "name": "python",
   "nbconvert_exporter": "python",
   "pygments_lexer": "ipython3",
   "version": "3.10.11"
  }
 },
 "nbformat": 4,
 "nbformat_minor": 5
}
